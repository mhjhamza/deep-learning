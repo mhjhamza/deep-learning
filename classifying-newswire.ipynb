{
 "cells": [
  {
   "cell_type": "code",
   "execution_count": 64,
   "metadata": {
    "collapsed": true
   },
   "outputs": [],
   "source": [
    "from keras.datasets import reuters\n",
    "from keras import models, layers, optimizers, losses, activations\n",
    "import numpy as np"
   ]
  },
  {
   "cell_type": "code",
   "execution_count": 65,
   "metadata": {},
   "outputs": [],
   "source": [
    "(x_train, y_train), (x_test, y_test) = reuters.load_data(num_words=10000)"
   ]
  },
  {
   "cell_type": "code",
   "execution_count": 66,
   "metadata": {},
   "outputs": [
    {
     "name": "stdout",
     "output_type": "stream",
     "text": [
      "len 8982\n",
      "ndims 1\n",
      "shape (8982,)\n",
      "[1, 2, 2, 8, 43, 10, 447, 5, 25, 207, 270, 5, 3095, 111, 16, 369, 186, 90, 67, 7, 89, 5, 19, 102, 6, 19, 124, 15, 90, 67, 84, 22, 482, 26, 7, 48, 4, 49, 8, 864, 39, 209, 154, 6, 151, 6, 83, 11, 15, 22, 155, 11, 15, 7, 48, 9, 4579, 1005, 504, 6, 258, 6, 272, 11, 15, 22, 134, 44, 11, 15, 16, 8, 197, 1245, 90, 67, 52, 29, 209, 30, 32, 132, 6, 109, 15, 17, 12]\n",
      "8982\n",
      "3\n"
     ]
    }
   ],
   "source": [
    "#Visualize the data\n",
    "print('len',len(x_train))\n",
    "print('ndims',x_train.ndim)\n",
    "print('shape', x_train.shape)\n",
    "print(x_train[0])\n",
    "print(len(y_train))\n",
    "print(y_train[0])"
   ]
  },
  {
   "cell_type": "code",
   "execution_count": 67,
   "metadata": {},
   "outputs": [],
   "source": [
    "word_index = reuters.get_word_index()"
   ]
  },
  {
   "cell_type": "code",
   "execution_count": 68,
   "metadata": {},
   "outputs": [
    {
     "name": "stdout",
     "output_type": "stream",
     "text": [
      "30979\n",
      "<class 'dict'>\n"
     ]
    }
   ],
   "source": [
    "print(len(word_index))\n",
    "print(type(word_index))\n",
    "# print(word_index.keys())"
   ]
  },
  {
   "cell_type": "code",
   "execution_count": 69,
   "metadata": {},
   "outputs": [
    {
     "data": {
      "text/plain": [
       "'   said as a result of its december acquisition of space co it expects earnings per share in 1987 of 1 15 to 1 30 dlrs per share up from 70 cts in 1986 the company said pretax net should rise to nine to 10 mln dlrs from six mln dlrs in 1986 and rental operation revenues to 19 to 22 mln dlrs from 12 5 mln dlrs it said cash flow per share this year should be 2 50 to three dlrs reuter 3'"
      ]
     },
     "execution_count": 69,
     "metadata": {},
     "output_type": "execute_result"
    }
   ],
   "source": [
    "reversed_index = dict([(value, key) for (key,value) in word_index.items()])\n",
    "' '.join([reversed_index.get(i-3, '') for i in x_train[0]])"
   ]
  },
  {
   "cell_type": "code",
   "execution_count": 70,
   "metadata": {},
   "outputs": [],
   "source": [
    "import numpy as np\n",
    "\n",
    "def vectorize_sequences(sequences, dimension=10000):\n",
    "    results = np.zeros((len(sequences), dimension))\n",
    "    for i, sequence in enumerate(sequences):\n",
    "        results[i, sequence] = 1.\n",
    "    return results\n",
    "\n",
    "# Our vectorized training data\n",
    "x_train = vectorize_sequences(x_train)\n",
    "# Our vectorized test data\n",
    "x_test = vectorize_sequences(x_test)"
   ]
  },
  {
   "cell_type": "code",
   "execution_count": 77,
   "metadata": {},
   "outputs": [],
   "source": [
    "def to_one_hot(labels, dimension=46):\n",
    "    results = np.zeros((len(labels), dimension))\n",
    "    for i, label in enumerate(labels):\n",
    "        results[i, label] = 1.\n",
    "    return results\n",
    "\n",
    "# Our vectorized training labels\n",
    "y_train = to_one_hot(y_train)\n",
    "# Our vectorized test labels\n",
    "y_test = to_one_hot(y_test)"
   ]
  },
  {
   "cell_type": "code",
   "execution_count": 78,
   "metadata": {},
   "outputs": [],
   "source": [
    "#model\n",
    "\n",
    "model = models.Sequential()\n",
    "model.add(layers.Dense(512, activation=activations.relu, input_shape =(10000,)))\n",
    "model.add(layers.Dense(256, activation=activations.relu))\n",
    "model.add(layers.Dense(46, activation=activations.softmax))"
   ]
  },
  {
   "cell_type": "code",
   "execution_count": 79,
   "metadata": {},
   "outputs": [],
   "source": [
    "# model.compile(optimizer=optimizers.rmsprop, loss=losses.categorical_crossentropy, metrics=['acc'])\n",
    "model.compile(optimizer='rmsprop', loss='categorical_crossentropy', metrics=['acc'])"
   ]
  },
  {
   "cell_type": "code",
   "execution_count": null,
   "metadata": {},
   "outputs": [],
   "source": []
  },
  {
   "cell_type": "code",
   "execution_count": 97,
   "metadata": {},
   "outputs": [
    {
     "name": "stdout",
     "output_type": "stream",
     "text": [
      "Train on 8982 samples, validate on 2246 samples\n",
      "Epoch 1/15\n",
      "8982/8982 [==============================] - 7s 798us/step - loss: 0.0793 - acc: 0.9561 - val_loss: 1.5387 - val_acc: 0.8010\n",
      "Epoch 2/15\n",
      "8982/8982 [==============================] - 8s 891us/step - loss: 0.0754 - acc: 0.9567 - val_loss: 1.6772 - val_acc: 0.7894\n",
      "Epoch 3/15\n",
      "8982/8982 [==============================] - 7s 822us/step - loss: 0.0763 - acc: 0.9557 - val_loss: 1.6709 - val_acc: 0.7872\n",
      "Epoch 4/15\n",
      "8982/8982 [==============================] - 7s 811us/step - loss: 0.0744 - acc: 0.9544 - val_loss: 1.6446 - val_acc: 0.7947\n",
      "Epoch 5/15\n",
      "8982/8982 [==============================] - 7s 806us/step - loss: 0.0721 - acc: 0.9560 - val_loss: 1.7434 - val_acc: 0.7881\n",
      "Epoch 6/15\n",
      "8982/8982 [==============================] - 7s 790us/step - loss: 0.0705 - acc: 0.9570 - val_loss: 1.7166 - val_acc: 0.7930\n",
      "Epoch 7/15\n",
      "8982/8982 [==============================] - 7s 753us/step - loss: 0.0705 - acc: 0.9550 - val_loss: 1.8155 - val_acc: 0.7854\n",
      "Epoch 8/15\n",
      "8982/8982 [==============================] - 7s 744us/step - loss: 0.0672 - acc: 0.9566 - val_loss: 1.9193 - val_acc: 0.7801\n",
      "Epoch 9/15\n",
      "8982/8982 [==============================] - 7s 767us/step - loss: 0.0673 - acc: 0.9555 - val_loss: 1.8914 - val_acc: 0.7850\n",
      "Epoch 10/15\n",
      "8982/8982 [==============================] - 7s 750us/step - loss: 0.0666 - acc: 0.9537 - val_loss: 1.9841 - val_acc: 0.7805\n",
      "Epoch 11/15\n",
      "8982/8982 [==============================] - 7s 804us/step - loss: 0.0649 - acc: 0.9568 - val_loss: 1.9775 - val_acc: 0.7801\n",
      "Epoch 12/15\n",
      "8982/8982 [==============================] - 7s 753us/step - loss: 0.0649 - acc: 0.9550 - val_loss: 2.0528 - val_acc: 0.7792\n",
      "Epoch 13/15\n",
      "8982/8982 [==============================] - 7s 747us/step - loss: 0.0646 - acc: 0.9562 - val_loss: 2.0347 - val_acc: 0.7787\n",
      "Epoch 14/15\n",
      "8982/8982 [==============================] - 7s 816us/step - loss: 0.0625 - acc: 0.9559 - val_loss: 2.0404 - val_acc: 0.7845\n",
      "Epoch 15/15\n",
      "8982/8982 [==============================] - 7s 788us/step - loss: 0.0632 - acc: 0.9557 - val_loss: 2.0520 - val_acc: 0.7832\n"
     ]
    }
   ],
   "source": [
    "history = model.fit(x_train, y_train, epochs=15, batch_size=512, validation_data=(x_test, y_test))"
   ]
  },
  {
   "cell_type": "code",
   "execution_count": 101,
   "metadata": {},
   "outputs": [
    {
     "data": {
      "image/png": "[encoded data removed]",
      "text/plain": [
       "<matplotlib.figure.Figure at 0x14d572f60>"
      ]
     },
     "metadata": {},
     "output_type": "display_data"
    }
   ],
   "source": [
    "plt.clf()      # clear figure# clear  \n",
    "\n",
    "acc = history.history['acc']\n",
    "val_acc = history.history['val_acc']\n",
    "epochs = range(1, len(acc) + 1)\n",
    "\n",
    "plt.plot(epochs, acc, 'bo', label='Training acc')\n",
    "plt.plot(epochs, val_acc, 'b', label='Validation acc')\n",
    "plt.title('Training and validation accuracy')\n",
    "plt.xlabel('Epochs')\n",
    "plt.ylabel('Loss')\n",
    "plt.legend()\n",
    "\n",
    "plt.show()"
   ]
  },
  {
   "cell_type": "code",
   "execution_count": null,
   "metadata": {
    "collapsed": true
   },
   "outputs": [],
   "source": []
  }
 ],
 "metadata": {
  "kernelspec": {
   "display_name": "Python 3",
   "language": "python",
   "name": "python3"
  },
  "language_info": {
   "codemirror_mode": {
    "name": "ipython",
    "version": 3
   },
   "file_extension": ".py",
   "mimetype": "text/x-python",
   "name": "python",
   "nbconvert_exporter": "python",
   "pygments_lexer": "ipython3",
   "version": "3.6.1"
  }
 },
 "nbformat": 4,
 "nbformat_minor": 2
}
