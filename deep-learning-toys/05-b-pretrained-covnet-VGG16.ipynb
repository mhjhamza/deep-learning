{
 "cells": [
  {
   "cell_type": "code",
   "execution_count": 1,
   "metadata": {},
   "outputs": [
    {
     "name": "stderr",
     "output_type": "stream",
     "text": [
      "/home/hamza/.local/lib/python3.5/site-packages/h5py/__init__.py:36: FutureWarning: Conversion of the second argument of issubdtype from `float` to `np.floating` is deprecated. In future, it will be treated as `np.float64 == np.dtype(float).type`.\n",
      "  from ._conv import register_converters as _register_converters\n",
      "Using TensorFlow backend.\n"
     ]
    }
   ],
   "source": [
    "from keras import models, layers, activations, optimizers, losses\n",
    "from keras.applications import VGG16\n",
    "from keras.preprocessing import image\n",
    "from keras.preprocessing.image import ImageDataGenerator\n",
    "import numpy as np\n",
    "import os"
   ]
  },
  {
   "cell_type": "code",
   "execution_count": null,
   "metadata": {},
   "outputs": [],
   "source": []
  },
  {
   "cell_type": "code",
   "execution_count": 2,
   "metadata": {},
   "outputs": [],
   "source": [
    "conv_base = VGG16(input_shape=(150,150,3), weights='imagenet', include_top=False)"
   ]
  },
  {
   "cell_type": "code",
   "execution_count": 3,
   "metadata": {},
   "outputs": [],
   "source": [
    "base_dir = '/home/hamza/DL/dataset_cats_vs_dogs'\n",
    "train_dir = os.path.join(base_dir,'train')\n",
    "validation_dir = os.path.join(base_dir,'validation')\n",
    "test_dir = os.path.join(base_dir,'test')\n",
    "\n",
    "train_cats_dir = os.path.join(train_dir,'cats')\n",
    "validation_cats_dir = os.path.join(validation_dir,'cats')\n",
    "test_cats_dir = os.path.join(test_dir,'cats')\n",
    "\n",
    "train_dogs_dir = os.path.join(train_dir,'dogs')\n",
    "validation_dogs_dir = os.path.join(validation_dir,'dogs')\n",
    "test_dogs_dir = os.path.join(test_dir,'dogs')"
   ]
  },
  {
   "cell_type": "code",
   "execution_count": 4,
   "metadata": {},
   "outputs": [
    {
     "name": "stdout",
     "output_type": "stream",
     "text": [
      "Found 2000 images belonging to 2 classes.\n",
      "Found 1000 images belonging to 2 classes.\n",
      "Found 1000 images belonging to 2 classes.\n"
     ]
    }
   ],
   "source": [
    "def extract_features(directory, sample_count):\n",
    "    datagen = ImageDataGenerator(rescale=1./255)\n",
    "    generator = datagen.flow_from_directory(directory, class_mode='binary', batch_size=20, target_size=(150,150))\n",
    "    \n",
    "    features = np.zeros((sample_count, 4,4,512))\n",
    "    \n",
    "    labels = np.zeros((sample_count))\n",
    "    i = 0\n",
    "    batch_size = 20\n",
    "    for inputs_batch, labels_batch in generator:\n",
    "        features_batch = conv_base.predict(inputs_batch)\n",
    "        \n",
    "        features[i * batch_size : (i + 1) * batch_size] = features_batch\n",
    "        labels[i * batch_size : (i + 1) * batch_size] = labels_batch\n",
    "        i += 1\n",
    "        \n",
    "        if i * batch_size >= sample_count:\n",
    "            break\n",
    "            \n",
    "    return features, labels\n",
    "    \n",
    "    \n",
    "    \n",
    "train_features, labels   = extract_features(train_dir, 2000)\n",
    "validation_features, val_labels  = extract_features(validation_dir, 1000)\n",
    "x_test, y_test = extract_features(test_dir, 1000)\n"
   ]
  },
  {
   "cell_type": "code",
   "execution_count": 10,
   "metadata": {},
   "outputs": [],
   "source": [
    "train_features = np.reshape(train_features, (2000, 4 * 4 * 512))\n",
    "validation_features = np.reshape(validation_features, (1000, 4 * 4 * 512))\n",
    "x_test = np.reshape(x_test, (1000, 4 * 4 * 512))"
   ]
  },
  {
   "cell_type": "code",
   "execution_count": 11,
   "metadata": {},
   "outputs": [],
   "source": [
    "def build_model():\n",
    "    \n",
    "    model = models.Sequential()\n",
    "    model.add(layers.Dense(256, activation=activations.relu, input_dim=4*4*512))\n",
    "    model.add(layers.Dropout(0.5))    \n",
    "    model.add(layers.Dense(1, activation=activations.sigmoid))\n",
    "    return model"
   ]
  },
  {
   "cell_type": "code",
   "execution_count": 12,
   "metadata": {},
   "outputs": [],
   "source": [
    "model = build_model()"
   ]
  },
  {
   "cell_type": "code",
   "execution_count": 13,
   "metadata": {},
   "outputs": [
    {
     "name": "stdout",
     "output_type": "stream",
     "text": [
      "_________________________________________________________________\n",
      "Layer (type)                 Output Shape              Param #   \n",
      "=================================================================\n",
      "dense_3 (Dense)              (None, 256)               2097408   \n",
      "_________________________________________________________________\n",
      "dropout_2 (Dropout)          (None, 256)               0         \n",
      "_________________________________________________________________\n",
      "dense_4 (Dense)              (None, 1)                 257       \n",
      "=================================================================\n",
      "Total params: 2,097,665\n",
      "Trainable params: 2,097,665\n",
      "Non-trainable params: 0\n",
      "_________________________________________________________________\n"
     ]
    }
   ],
   "source": [
    "model.summary()"
   ]
  },
  {
   "cell_type": "code",
   "execution_count": 14,
   "metadata": {},
   "outputs": [],
   "source": [
    "model.compile(optimizer=optimizers.RMSprop(lr=2e-5), loss=losses.binary_crossentropy, metrics=['acc'])"
   ]
  },
  {
   "cell_type": "code",
   "execution_count": null,
   "metadata": {},
   "outputs": [],
   "source": []
  },
  {
   "cell_type": "code",
   "execution_count": 15,
   "metadata": {},
   "outputs": [
    {
     "name": "stdout",
     "output_type": "stream",
     "text": [
      "Train on 2000 samples, validate on 1000 samples\n",
      "Epoch 1/30\n",
      "2000/2000 [==============================] - 1s 534us/step - loss: 0.6031 - acc: 0.6745 - val_loss: 0.4579 - val_acc: 0.8250\n",
      "Epoch 2/30\n",
      "2000/2000 [==============================] - 1s 324us/step - loss: 0.4443 - acc: 0.7915 - val_loss: 0.3688 - val_acc: 0.8600\n",
      "Epoch 3/30\n",
      "2000/2000 [==============================] - 1s 378us/step - loss: 0.3626 - acc: 0.8440 - val_loss: 0.3245 - val_acc: 0.8750\n",
      "Epoch 4/30\n",
      "2000/2000 [==============================] - 1s 351us/step - loss: 0.3138 - acc: 0.8745 - val_loss: 0.2980 - val_acc: 0.8840\n",
      "Epoch 5/30\n",
      "2000/2000 [==============================] - 1s 346us/step - loss: 0.2927 - acc: 0.8845 - val_loss: 0.2853 - val_acc: 0.8870\n",
      "Epoch 6/30\n",
      "2000/2000 [==============================] - 1s 340us/step - loss: 0.2627 - acc: 0.8965 - val_loss: 0.2709 - val_acc: 0.8950\n",
      "Epoch 7/30\n",
      "2000/2000 [==============================] - 1s 318us/step - loss: 0.2518 - acc: 0.9010 - val_loss: 0.2635 - val_acc: 0.9000\n",
      "Epoch 8/30\n",
      "2000/2000 [==============================] - 1s 320us/step - loss: 0.2320 - acc: 0.9100 - val_loss: 0.2586 - val_acc: 0.8950\n",
      "Epoch 9/30\n",
      "2000/2000 [==============================] - 1s 322us/step - loss: 0.2191 - acc: 0.9190 - val_loss: 0.2550 - val_acc: 0.8950\n",
      "Epoch 10/30\n",
      "2000/2000 [==============================] - 1s 322us/step - loss: 0.2044 - acc: 0.9260 - val_loss: 0.2500 - val_acc: 0.8990\n",
      "Epoch 11/30\n",
      "2000/2000 [==============================] - 1s 353us/step - loss: 0.1944 - acc: 0.9310 - val_loss: 0.2454 - val_acc: 0.9000\n",
      "Epoch 12/30\n",
      "2000/2000 [==============================] - 1s 318us/step - loss: 0.1878 - acc: 0.9305 - val_loss: 0.2419 - val_acc: 0.9030\n",
      "Epoch 13/30\n",
      "2000/2000 [==============================] - 1s 320us/step - loss: 0.1808 - acc: 0.9365 - val_loss: 0.2466 - val_acc: 0.8960\n",
      "Epoch 14/30\n",
      "2000/2000 [==============================] - 1s 319us/step - loss: 0.1670 - acc: 0.9415 - val_loss: 0.2379 - val_acc: 0.9030\n",
      "Epoch 15/30\n",
      "2000/2000 [==============================] - 1s 344us/step - loss: 0.1610 - acc: 0.9460 - val_loss: 0.2374 - val_acc: 0.9030\n",
      "Epoch 16/30\n",
      "2000/2000 [==============================] - 1s 341us/step - loss: 0.1553 - acc: 0.9480 - val_loss: 0.2396 - val_acc: 0.9000\n",
      "Epoch 17/30\n",
      "2000/2000 [==============================] - 1s 333us/step - loss: 0.1467 - acc: 0.9525 - val_loss: 0.2361 - val_acc: 0.9060\n",
      "Epoch 18/30\n",
      "2000/2000 [==============================] - 1s 355us/step - loss: 0.1451 - acc: 0.9470 - val_loss: 0.2372 - val_acc: 0.8980\n",
      "Epoch 19/30\n",
      "2000/2000 [==============================] - 1s 325us/step - loss: 0.1429 - acc: 0.9535 - val_loss: 0.2370 - val_acc: 0.9040\n",
      "Epoch 20/30\n",
      "2000/2000 [==============================] - 1s 320us/step - loss: 0.1339 - acc: 0.9555 - val_loss: 0.2426 - val_acc: 0.9000\n",
      "Epoch 21/30\n",
      "2000/2000 [==============================] - 1s 321us/step - loss: 0.1242 - acc: 0.9585 - val_loss: 0.2437 - val_acc: 0.8990\n",
      "Epoch 22/30\n",
      "2000/2000 [==============================] - 1s 339us/step - loss: 0.1213 - acc: 0.9595 - val_loss: 0.2349 - val_acc: 0.9020\n",
      "Epoch 23/30\n",
      "2000/2000 [==============================] - 1s 338us/step - loss: 0.1154 - acc: 0.9585 - val_loss: 0.2404 - val_acc: 0.9020\n",
      "Epoch 24/30\n",
      "2000/2000 [==============================] - 1s 319us/step - loss: 0.1107 - acc: 0.9625 - val_loss: 0.2361 - val_acc: 0.8980\n",
      "Epoch 25/30\n",
      "2000/2000 [==============================] - 1s 321us/step - loss: 0.1052 - acc: 0.9685 - val_loss: 0.2391 - val_acc: 0.9010\n",
      "Epoch 26/30\n",
      "2000/2000 [==============================] - 1s 330us/step - loss: 0.1055 - acc: 0.9685 - val_loss: 0.2508 - val_acc: 0.9010\n",
      "Epoch 27/30\n",
      "2000/2000 [==============================] - 1s 336us/step - loss: 0.1006 - acc: 0.9670 - val_loss: 0.2409 - val_acc: 0.9010\n",
      "Epoch 28/30\n",
      "2000/2000 [==============================] - 1s 383us/step - loss: 0.0960 - acc: 0.9705 - val_loss: 0.2384 - val_acc: 0.8990\n",
      "Epoch 29/30\n",
      "2000/2000 [==============================] - 1s 335us/step - loss: 0.0923 - acc: 0.9735 - val_loss: 0.2413 - val_acc: 0.8990\n",
      "Epoch 30/30\n",
      "2000/2000 [==============================] - 1s 342us/step - loss: 0.0884 - acc: 0.9735 - val_loss: 0.2411 - val_acc: 0.9010\n"
     ]
    }
   ],
   "source": [
    "history = model.fit(train_features, \n",
    "                    labels,\n",
    "                    epochs=30,\n",
    "                    batch_size=20,\n",
    "                    validation_data=(validation_features, val_labels))"
   ]
  },
  {
   "cell_type": "code",
   "execution_count": 16,
   "metadata": {},
   "outputs": [
    {
     "data": {
      "text/plain": [
       "dict_keys(['val_acc', 'acc', 'val_loss', 'loss'])"
      ]
     },
     "execution_count": 16,
     "metadata": {},
     "output_type": "execute_result"
    }
   ],
   "source": [
    "history.history.keys()"
   ]
  },
  {
   "cell_type": "code",
   "execution_count": null,
   "metadata": {},
   "outputs": [],
   "source": [
    "h = history.history\n",
    "h['val_acc'][-1]"
   ]
  },
  {
   "cell_type": "code",
   "execution_count": 19,
   "metadata": {},
   "outputs": [
    {
     "name": "stdout",
     "output_type": "stream",
     "text": [
      "Using matplotlib backend: TkAgg\n"
     ]
    }
   ],
   "source": [
    "import matplotlib.pyplot as plt\n",
    "%matplotlib\n",
    "\n",
    "acc  =   history.history['acc']\n",
    "val_acc  =  history.history['val_acc']\n",
    "loss = history.history['loss']\n",
    "val_loss = history.history['val_loss']\n",
    "\n",
    "epochs = range(len(acc))\n",
    "\n",
    "plt.plot(epochs, acc, 'bo', label='Training acc')\n",
    "plt.plot(epochs, val_acc, 'b', label='Validation acc')\n",
    "plt.title('Training and validation accuracy')\n",
    "plt.legend()\n",
    "\n",
    "plt.figure()\n",
    "\n",
    "plt.plot(epochs, loss, 'bo', label='Training loss')\n",
    "plt.plot(epochs, val_loss, 'b', label='Validation loss')\n",
    "plt.title('Training and validation loss')\n",
    "plt.legend()\n",
    "\n",
    "plt.show()"
   ]
  },
  {
   "cell_type": "code",
   "execution_count": null,
   "metadata": {},
   "outputs": [],
   "source": []
  }
 ],
 "metadata": {
  "kernelspec": {
   "display_name": "Python 3",
   "language": "python",
   "name": "python3"
  },
  "language_info": {
   "codemirror_mode": {
    "name": "ipython",
    "version": 3
   },
   "file_extension": ".py",
   "mimetype": "text/x-python",
   "name": "python",
   "nbconvert_exporter": "python",
   "pygments_lexer": "ipython3",
   "version": "3.5.2"
  }
 },
 "nbformat": 4,
 "nbformat_minor": 2
}
