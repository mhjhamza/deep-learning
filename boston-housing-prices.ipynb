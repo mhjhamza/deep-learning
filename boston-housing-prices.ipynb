{
 "cells": [
  {
   "cell_type": "code",
   "execution_count": 1,
   "metadata": {
    "collapsed": true
   },
   "outputs": [],
   "source": [
    "from keras.datasets import boston_housing\n",
    "from keras import models, layers, optimizers, losses, activations\n",
    "import numpy as np\n",
    "import matplotlib.pyplot as plt"
   ]
  },
  {
   "cell_type": "code",
   "execution_count": 2,
   "metadata": {},
   "outputs": [
    {
     "name": "stdout",
     "output_type": "stream",
     "text": [
      "Downloading data from https://s3.amazonaws.com/keras-datasets/boston_housing.npz\n",
      "57344/57026 [==============================] - 1s 22us/step\n"
     ]
    }
   ],
   "source": [
    "(x_train, y_train), (x_test, y_test) = boston_housing.load_data()"
   ]
  },
  {
   "cell_type": "code",
   "execution_count": 11,
   "metadata": {},
   "outputs": [],
   "source": [
    "#Explore dataset\n",
    "len(y_train)\n",
    "len(y_test)\n",
    "len(x_train)\n",
    "x_train.shape\n",
    "import pandas as pd\n",
    "df = pd.DataFrame(x_train)"
   ]
  },
  {
   "cell_type": "code",
   "execution_count": 17,
   "metadata": {},
   "outputs": [],
   "source": [
    "x_train = x_train - x_train.mean()\n",
    "x_train = x_train / x_train.std()\n",
    "\n",
    "\n",
    "x_test = x_test - x_train.mean()\n",
    "x_test = x_test / x_train.std()\n",
    "\n",
    "\n"
   ]
  },
  {
   "cell_type": "code",
   "execution_count": 18,
   "metadata": {},
   "outputs": [
    {
     "data": {
      "text/html": [
       "<div>\n",
       "<style>\n",
       "    .dataframe thead tr:only-child th {\n",
       "        text-align: right;\n",
       "    }\n",
       "\n",
       "    .dataframe thead th {\n",
       "        text-align: left;\n",
       "    }\n",
       "\n",
       "    .dataframe tbody tr th {\n",
       "        vertical-align: top;\n",
       "    }\n",
       "</style>\n",
       "<table border=\"1\" class=\"dataframe\">\n",
       "  <thead>\n",
       "    <tr style=\"text-align: right;\">\n",
       "      <th></th>\n",
       "      <th>0</th>\n",
       "      <th>1</th>\n",
       "      <th>2</th>\n",
       "      <th>3</th>\n",
       "      <th>4</th>\n",
       "      <th>5</th>\n",
       "      <th>6</th>\n",
       "      <th>7</th>\n",
       "      <th>8</th>\n",
       "      <th>9</th>\n",
       "      <th>10</th>\n",
       "      <th>11</th>\n",
       "      <th>12</th>\n",
       "    </tr>\n",
       "  </thead>\n",
       "  <tbody>\n",
       "    <tr>\n",
       "      <th>count</th>\n",
       "      <td>404.000000</td>\n",
       "      <td>404.000000</td>\n",
       "      <td>404.000000</td>\n",
       "      <td>404.000000</td>\n",
       "      <td>404.000000</td>\n",
       "      <td>404.000000</td>\n",
       "      <td>404.000000</td>\n",
       "      <td>404.000000</td>\n",
       "      <td>404.000000</td>\n",
       "      <td>404.000000</td>\n",
       "      <td>404.000000</td>\n",
       "      <td>404.000000</td>\n",
       "      <td>404.000000</td>\n",
       "    </tr>\n",
       "    <tr>\n",
       "      <th>mean</th>\n",
       "      <td>-0.457419</td>\n",
       "      <td>-0.403849</td>\n",
       "      <td>-0.406452</td>\n",
       "      <td>-0.482928</td>\n",
       "      <td>-0.479496</td>\n",
       "      <td>-0.439953</td>\n",
       "      <td>-0.005417</td>\n",
       "      <td>-0.457453</td>\n",
       "      <td>-0.417975</td>\n",
       "      <td>2.327732</td>\n",
       "      <td>-0.355399</td>\n",
       "      <td>1.973728</td>\n",
       "      <td>-0.395119</td>\n",
       "    </tr>\n",
       "    <tr>\n",
       "      <th>std</th>\n",
       "      <td>0.063998</td>\n",
       "      <td>0.164606</td>\n",
       "      <td>0.047172</td>\n",
       "      <td>0.001671</td>\n",
       "      <td>0.000812</td>\n",
       "      <td>0.004916</td>\n",
       "      <td>0.193506</td>\n",
       "      <td>0.014060</td>\n",
       "      <td>0.060241</td>\n",
       "      <td>1.152243</td>\n",
       "      <td>0.015239</td>\n",
       "      <td>0.651776</td>\n",
       "      <td>0.050242</td>\n",
       "    </tr>\n",
       "    <tr>\n",
       "      <th>min</th>\n",
       "      <td>-0.483313</td>\n",
       "      <td>-0.483356</td>\n",
       "      <td>-0.480171</td>\n",
       "      <td>-0.483356</td>\n",
       "      <td>-0.480690</td>\n",
       "      <td>-0.458694</td>\n",
       "      <td>-0.463272</td>\n",
       "      <td>-0.475533</td>\n",
       "      <td>-0.476431</td>\n",
       "      <td>0.818655</td>\n",
       "      <td>-0.396094</td>\n",
       "      <td>-0.481140</td>\n",
       "      <td>-0.471375</td>\n",
       "    </tr>\n",
       "    <tr>\n",
       "      <th>25%</th>\n",
       "      <td>-0.482792</td>\n",
       "      <td>-0.483356</td>\n",
       "      <td>-0.447828</td>\n",
       "      <td>-0.483356</td>\n",
       "      <td>-0.480219</td>\n",
       "      <td>-0.442670</td>\n",
       "      <td>-0.168415</td>\n",
       "      <td>-0.468971</td>\n",
       "      <td>-0.455654</td>\n",
       "      <td>1.448884</td>\n",
       "      <td>-0.364063</td>\n",
       "      <td>2.111473</td>\n",
       "      <td>-0.435639</td>\n",
       "    </tr>\n",
       "    <tr>\n",
       "      <th>50%</th>\n",
       "      <td>-0.481494</td>\n",
       "      <td>-0.483356</td>\n",
       "      <td>-0.416247</td>\n",
       "      <td>-0.483356</td>\n",
       "      <td>-0.479630</td>\n",
       "      <td>-0.440428</td>\n",
       "      <td>0.060303</td>\n",
       "      <td>-0.461594</td>\n",
       "      <td>-0.448728</td>\n",
       "      <td>1.802090</td>\n",
       "      <td>-0.351078</td>\n",
       "      <td>2.226282</td>\n",
       "      <td>-0.404439</td>\n",
       "    </tr>\n",
       "    <tr>\n",
       "      <th>75%</th>\n",
       "      <td>-0.457906</td>\n",
       "      <td>-0.396786</td>\n",
       "      <td>-0.358003</td>\n",
       "      <td>-0.483356</td>\n",
       "      <td>-0.478986</td>\n",
       "      <td>-0.437585</td>\n",
       "      <td>0.168342</td>\n",
       "      <td>-0.447911</td>\n",
       "      <td>-0.317142</td>\n",
       "      <td>4.129089</td>\n",
       "      <td>-0.343459</td>\n",
       "      <td>2.260270</td>\n",
       "      <td>-0.364981</td>\n",
       "    </tr>\n",
       "    <tr>\n",
       "      <th>max</th>\n",
       "      <td>0.132857</td>\n",
       "      <td>0.209203</td>\n",
       "      <td>-0.291240</td>\n",
       "      <td>-0.476431</td>\n",
       "      <td>-0.477324</td>\n",
       "      <td>-0.422931</td>\n",
       "      <td>0.209203</td>\n",
       "      <td>-0.409181</td>\n",
       "      <td>-0.317142</td>\n",
       "      <td>4.440741</td>\n",
       "      <td>-0.330993</td>\n",
       "      <td>2.265412</td>\n",
       "      <td>-0.220392</td>\n",
       "    </tr>\n",
       "  </tbody>\n",
       "</table>\n",
       "</div>"
      ],
      "text/plain": [
       "               0           1           2           3           4           5   \\\n",
       "count  404.000000  404.000000  404.000000  404.000000  404.000000  404.000000   \n",
       "mean    -0.457419   -0.403849   -0.406452   -0.482928   -0.479496   -0.439953   \n",
       "std      0.063998    0.164606    0.047172    0.001671    0.000812    0.004916   \n",
       "min     -0.483313   -0.483356   -0.480171   -0.483356   -0.480690   -0.458694   \n",
       "25%     -0.482792   -0.483356   -0.447828   -0.483356   -0.480219   -0.442670   \n",
       "50%     -0.481494   -0.483356   -0.416247   -0.483356   -0.479630   -0.440428   \n",
       "75%     -0.457906   -0.396786   -0.358003   -0.483356   -0.478986   -0.437585   \n",
       "max      0.132857    0.209203   -0.291240   -0.476431   -0.477324   -0.422931   \n",
       "\n",
       "               6           7           8           9           10          11  \\\n",
       "count  404.000000  404.000000  404.000000  404.000000  404.000000  404.000000   \n",
       "mean    -0.005417   -0.457453   -0.417975    2.327732   -0.355399    1.973728   \n",
       "std      0.193506    0.014060    0.060241    1.152243    0.015239    0.651776   \n",
       "min     -0.463272   -0.475533   -0.476431    0.818655   -0.396094   -0.481140   \n",
       "25%     -0.168415   -0.468971   -0.455654    1.448884   -0.364063    2.111473   \n",
       "50%      0.060303   -0.461594   -0.448728    1.802090   -0.351078    2.226282   \n",
       "75%      0.168342   -0.447911   -0.317142    4.129089   -0.343459    2.260270   \n",
       "max      0.209203   -0.409181   -0.317142    4.440741   -0.330993    2.265412   \n",
       "\n",
       "               12  \n",
       "count  404.000000  \n",
       "mean    -0.395119  \n",
       "std      0.050242  \n",
       "min     -0.471375  \n",
       "25%     -0.435639  \n",
       "50%     -0.404439  \n",
       "75%     -0.364981  \n",
       "max     -0.220392  "
      ]
     },
     "execution_count": 18,
     "metadata": {},
     "output_type": "execute_result"
    }
   ],
   "source": [
    "df = pd.DataFrame(x_train)\n",
    "df.describe()"
   ]
  },
  {
   "cell_type": "code",
   "execution_count": 24,
   "metadata": {},
   "outputs": [],
   "source": [
    "model = models.Sequential()\n",
    "\n",
    "model.add(layers.Dense(512, activation=activations.relu, input_shape=(13,)))\n",
    "model.add(layers.Dense(256, activation=activations.relu))\n",
    "model.add(layers.Dense(64, activation=activations.relu))\n",
    "model.add(layers.Dense(1))\n"
   ]
  },
  {
   "cell_type": "code",
   "execution_count": 25,
   "metadata": {},
   "outputs": [],
   "source": [
    "model.compile(optimizer='rmsprop', loss='mse', metrics=['mae'])"
   ]
  },
  {
   "cell_type": "code",
   "execution_count": 27,
   "metadata": {},
   "outputs": [
    {
     "name": "stdout",
     "output_type": "stream",
     "text": [
      "Epoch 1/50\n",
      "404/404 [==============================] - 0s 86us/step - loss: 65.7263 - mean_absolute_error: 5.6403\n",
      "Epoch 2/50\n",
      "404/404 [==============================] - 0s 127us/step - loss: 59.0007 - mean_absolute_error: 5.3803\n",
      "Epoch 3/50\n",
      "404/404 [==============================] - 0s 87us/step - loss: 59.6085 - mean_absolute_error: 5.2491\n",
      "Epoch 4/50\n",
      "404/404 [==============================] - 0s 192us/step - loss: 65.1934 - mean_absolute_error: 5.5478\n",
      "Epoch 5/50\n",
      "404/404 [==============================] - 0s 119us/step - loss: 59.6477 - mean_absolute_error: 5.3322\n",
      "Epoch 6/50\n",
      "404/404 [==============================] - 0s 117us/step - loss: 60.6671 - mean_absolute_error: 5.4413\n",
      "Epoch 7/50\n",
      "404/404 [==============================] - 0s 95us/step - loss: 58.9258 - mean_absolute_error: 5.1968\n",
      "Epoch 8/50\n",
      "404/404 [==============================] - 0s 117us/step - loss: 63.6372 - mean_absolute_error: 5.5458\n",
      "Epoch 9/50\n",
      "404/404 [==============================] - 0s 105us/step - loss: 58.9974 - mean_absolute_error: 5.1863\n",
      "Epoch 10/50\n",
      "404/404 [==============================] - 0s 89us/step - loss: 60.2700 - mean_absolute_error: 5.4862\n",
      "Epoch 11/50\n",
      "404/404 [==============================] - 0s 123us/step - loss: 57.9394 - mean_absolute_error: 5.1756\n",
      "Epoch 12/50\n",
      "404/404 [==============================] - 0s 103us/step - loss: 63.3861 - mean_absolute_error: 5.5665\n",
      "Epoch 13/50\n",
      "404/404 [==============================] - 0s 98us/step - loss: 57.1320 - mean_absolute_error: 5.1979\n",
      "Epoch 14/50\n",
      "404/404 [==============================] - 0s 119us/step - loss: 64.0164 - mean_absolute_error: 5.4744\n",
      "Epoch 15/50\n",
      "404/404 [==============================] - 0s 117us/step - loss: 57.2904 - mean_absolute_error: 5.1216\n",
      "Epoch 16/50\n",
      "404/404 [==============================] - 0s 112us/step - loss: 57.9659 - mean_absolute_error: 5.3029\n",
      "Epoch 17/50\n",
      "404/404 [==============================] - 0s 113us/step - loss: 58.2126 - mean_absolute_error: 5.2476\n",
      "Epoch 18/50\n",
      "404/404 [==============================] - 0s 119us/step - loss: 57.2373 - mean_absolute_error: 5.1175\n",
      "Epoch 19/50\n",
      "404/404 [==============================] - 0s 134us/step - loss: 59.7015 - mean_absolute_error: 5.3800\n",
      "Epoch 20/50\n",
      "404/404 [==============================] - 0s 103us/step - loss: 59.4171 - mean_absolute_error: 5.3111\n",
      "Epoch 21/50\n",
      "404/404 [==============================] - 0s 111us/step - loss: 60.3227 - mean_absolute_error: 5.4401\n",
      "Epoch 22/50\n",
      "404/404 [==============================] - 0s 119us/step - loss: 61.2861 - mean_absolute_error: 5.4691\n",
      "Epoch 23/50\n",
      "404/404 [==============================] - 0s 103us/step - loss: 54.6630 - mean_absolute_error: 5.0790\n",
      "Epoch 24/50\n",
      "404/404 [==============================] - 0s 122us/step - loss: 59.3864 - mean_absolute_error: 5.1676\n",
      "Epoch 25/50\n",
      "404/404 [==============================] - 0s 135us/step - loss: 57.0417 - mean_absolute_error: 4.9915\n",
      "Epoch 26/50\n",
      "404/404 [==============================] - 0s 125us/step - loss: 56.8110 - mean_absolute_error: 5.0533\n",
      "Epoch 27/50\n",
      "404/404 [==============================] - 0s 106us/step - loss: 54.8337 - mean_absolute_error: 4.9043\n",
      "Epoch 28/50\n",
      "404/404 [==============================] - 0s 467us/step - loss: 57.5611 - mean_absolute_error: 5.2778\n",
      "Epoch 29/50\n",
      "404/404 [==============================] - 0s 99us/step - loss: 55.2711 - mean_absolute_error: 5.1249\n",
      "Epoch 30/50\n",
      "404/404 [==============================] - 0s 102us/step - loss: 57.7745 - mean_absolute_error: 5.2925\n",
      "Epoch 31/50\n",
      "404/404 [==============================] - 0s 86us/step - loss: 53.7210 - mean_absolute_error: 4.9310\n",
      "Epoch 32/50\n",
      "404/404 [==============================] - ETA: 0s - loss: 72.9635 - mean_absolute_error: 6.62 - 0s 112us/step - loss: 53.3325 - mean_absolute_error: 5.0391\n",
      "Epoch 33/50\n",
      "404/404 [==============================] - 0s 105us/step - loss: 55.0953 - mean_absolute_error: 5.1765\n",
      "Epoch 34/50\n",
      "404/404 [==============================] - 0s 125us/step - loss: 59.9736 - mean_absolute_error: 5.3334\n",
      "Epoch 35/50\n",
      "404/404 [==============================] - 0s 117us/step - loss: 53.8071 - mean_absolute_error: 5.0666\n",
      "Epoch 36/50\n",
      "404/404 [==============================] - 0s 187us/step - loss: 55.0570 - mean_absolute_error: 5.0252\n",
      "Epoch 37/50\n",
      "404/404 [==============================] - 0s 146us/step - loss: 59.2416 - mean_absolute_error: 5.4168\n",
      "Epoch 38/50\n",
      "404/404 [==============================] - 0s 135us/step - loss: 53.9675 - mean_absolute_error: 4.9348\n",
      "Epoch 39/50\n",
      "404/404 [==============================] - 0s 119us/step - loss: 52.2383 - mean_absolute_error: 4.9233\n",
      "Epoch 40/50\n",
      "404/404 [==============================] - 0s 129us/step - loss: 54.6554 - mean_absolute_error: 5.0447\n",
      "Epoch 41/50\n",
      "404/404 [==============================] - 0s 134us/step - loss: 55.0784 - mean_absolute_error: 5.0158\n",
      "Epoch 42/50\n",
      "404/404 [==============================] - 0s 161us/step - loss: 55.7970 - mean_absolute_error: 5.1053\n",
      "Epoch 43/50\n",
      "404/404 [==============================] - 0s 109us/step - loss: 56.3876 - mean_absolute_error: 5.2547\n",
      "Epoch 44/50\n",
      "404/404 [==============================] - 0s 112us/step - loss: 55.9660 - mean_absolute_error: 5.2007\n",
      "Epoch 45/50\n",
      "404/404 [==============================] - 0s 121us/step - loss: 50.9022 - mean_absolute_error: 4.8541\n",
      "Epoch 46/50\n",
      "404/404 [==============================] - 0s 135us/step - loss: 52.8146 - mean_absolute_error: 4.9475\n",
      "Epoch 47/50\n",
      "404/404 [==============================] - 0s 98us/step - loss: 53.6644 - mean_absolute_error: 5.1890\n",
      "Epoch 48/50\n",
      "404/404 [==============================] - 0s 104us/step - loss: 51.2149 - mean_absolute_error: 4.8851\n",
      "Epoch 49/50\n",
      "404/404 [==============================] - 0s 83us/step - loss: 51.6361 - mean_absolute_error: 4.8852\n",
      "Epoch 50/50\n",
      "404/404 [==============================] - 0s 110us/step - loss: 51.5837 - mean_absolute_error: 4.8851\n"
     ]
    },
    {
     "data": {
      "text/plain": [
       "<keras.callbacks.History at 0x1293825c0>"
      ]
     },
     "execution_count": 27,
     "metadata": {},
     "output_type": "execute_result"
    }
   ],
   "source": [
    "model.fit(x_train, y_train, epochs=50, batch_size=64)"
   ]
  },
  {
   "cell_type": "code",
   "execution_count": 41,
   "metadata": {},
   "outputs": [
    {
     "data": {
      "text/plain": [
       "37.65796"
      ]
     },
     "execution_count": 41,
     "metadata": {},
     "output_type": "execute_result"
    }
   ],
   "source": [
    "model.predict(x_train[1:2])[0][0]"
   ]
  },
  {
   "cell_type": "code",
   "execution_count": 42,
   "metadata": {},
   "outputs": [
    {
     "data": {
      "text/plain": [
       "42.3"
      ]
     },
     "execution_count": 42,
     "metadata": {},
     "output_type": "execute_result"
    }
   ],
   "source": [
    "y_train[1]"
   ]
  },
  {
   "cell_type": "code",
   "execution_count": null,
   "metadata": {
    "collapsed": true
   },
   "outputs": [],
   "source": []
  }
 ],
 "metadata": {
  "kernelspec": {
   "display_name": "Python 3",
   "language": "python",
   "name": "python3"
  },
  "language_info": {
   "codemirror_mode": {
    "name": "ipython",
    "version": 3
   },
   "file_extension": ".py",
   "mimetype": "text/x-python",
   "name": "python",
   "nbconvert_exporter": "python",
   "pygments_lexer": "ipython3",
   "version": "3.6.1"
  }
 },
 "nbformat": 4,
 "nbformat_minor": 2
}
